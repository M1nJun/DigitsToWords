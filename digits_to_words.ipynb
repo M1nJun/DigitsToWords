{
  "cells": [
    {
      "cell_type": "markdown",
      "metadata": {
        "id": "uupembHRlheN"
      },
      "source": [
        "# English-to-Spanish translation with KerasNLP\n",
        "\n",
        "**Author:** [Abheesht Sharma](https://github.com/abheesht17/)<br>\n",
        "**Date created:** 2022/05/26<br>\n",
        "**Last modified:** 2022/12/21<br>\n",
        "**Description:** Use KerasNLP to train a sequence-to-sequence Transformer model on the machine translation task."
      ]
    },
    {
      "cell_type": "markdown",
      "metadata": {
        "id": "4dIQGykhlheQ"
      },
      "source": [
        "## Introduction\n",
        "\n",
        "KerasNLP provides building blocks for NLP (model layers, tokenizers, metrics, etc.) and\n",
        "makes it convenient to construct NLP pipelines.\n",
        "\n",
        "In this example, we'll use KerasNLP layers to build an encoder-decoder Transformer\n",
        "model, and train it on the English-to-Spanish machine translation task.\n",
        "\n",
        "This example is based on the\n",
        "[English-to-Spanish NMT\n",
        "example](https://keras.io/examples/nlp/neural_machine_translation_with_transformer/)\n",
        "by [fchollet](https://twitter.com/fchollet). The original example is more low-level\n",
        "and implements layers from scratch, whereas this example uses KerasNLP to show\n",
        "some more advanced approaches, such as subword tokenization and using metrics\n",
        "to compute the quality of generated translations.\n",
        "\n",
        "You'll learn how to:\n",
        "\n",
        "- Tokenize text using `keras_nlp.tokenizers.WordPieceTokenizer`.\n",
        "- Implement a sequence-to-sequence Transformer model using KerasNLP's\n",
        "`keras_nlp.layers.TransformerEncoder`, `keras_nlp.layers.TransformerDecoder` and\n",
        "`keras_nlp.layers.TokenAndPositionEmbedding` layers, and train it.\n",
        "- Use `keras_nlp.samplers` to generate translations of unseen input sentences\n",
        " using the top-p decoding strategy!\n",
        "\n",
        "Don't worry if you aren't familiar with KerasNLP. This tutorial will start with\n",
        "the basics. Let's dive right in!"
      ]
    },
    {
      "cell_type": "markdown",
      "metadata": {
        "id": "krTXVs3GlheQ"
      },
      "source": [
        "## Setup\n",
        "\n",
        "Before we start implementing the pipeline, let's import all the libraries we need."
      ]
    },
    {
      "cell_type": "code",
      "execution_count": 8,
      "metadata": {
        "id": "ZcGzh90blheR",
        "colab": {
          "base_uri": "https://localhost:8080/"
        },
        "outputId": "f3796a6e-ea11-4125-872b-99066af81d96"
      },
      "outputs": [
        {
          "output_type": "execute_result",
          "data": {
            "text/plain": [
              "['  Installing build dependencies ... \\x1b[?25l\\x1b[?25hdone',\n",
              " '  Getting requirements to build wheel ... \\x1b[?25l\\x1b[?25hdone',\n",
              " '  Preparing metadata (pyproject.toml) ... \\x1b[?25l\\x1b[?25hdone',\n",
              " '\\x1b[?25l     \\x1b[90m━━━━━━━━━━━━━━━━━━━━━━━━━━━━━━━━━━━━━━━━\\x1b[0m \\x1b[32m0.0/950.8 kB\\x1b[0m \\x1b[31m?\\x1b[0m eta \\x1b[36m-:--:--\\x1b[0m',\n",
              " '\\x1b[2K     \\x1b[91m━━━━━━\\x1b[0m\\x1b[90m╺\\x1b[0m\\x1b[90m━━━━━━━━━━━━━━━━━━━━━━━━━━━━━━━━━\\x1b[0m \\x1b[32m143.4/950.8 kB\\x1b[0m \\x1b[31m4.3 MB/s\\x1b[0m eta \\x1b[36m0:00:01\\x1b[0m',\n",
              " '\\x1b[2K     \\x1b[91m━━━━━━━━━━━━━━━━━━━━━━━━━━━━━━━━━━━━━━━\\x1b[0m\\x1b[91m╸\\x1b[0m \\x1b[32m942.1/950.8 kB\\x1b[0m \\x1b[31m16.0 MB/s\\x1b[0m eta \\x1b[36m0:00:01\\x1b[0m',\n",
              " '\\x1b[2K     \\x1b[90m━━━━━━━━━━━━━━━━━━━━━━━━━━━━━━━━━━━━━━━━\\x1b[0m \\x1b[32m950.8/950.8 kB\\x1b[0m \\x1b[31m13.1 MB/s\\x1b[0m eta \\x1b[36m0:00:00\\x1b[0m',\n",
              " '\\x1b[?25h\\x1b[?25l     \\x1b[90m━━━━━━━━━━━━━━━━━━━━━━━━━━━━━━━━━━━━━━━━\\x1b[0m \\x1b[32m0.0/6.5 MB\\x1b[0m \\x1b[31m?\\x1b[0m eta \\x1b[36m-:--:--\\x1b[0m',\n",
              " '\\x1b[2K     \\x1b[91m━━━━━━━━━━━━━━━━━━━━━━━━━━━━━━━━━━━\\x1b[0m\\x1b[90m╺\\x1b[0m\\x1b[90m━━━━\\x1b[0m \\x1b[32m5.7/6.5 MB\\x1b[0m \\x1b[31m172.5 MB/s\\x1b[0m eta \\x1b[36m0:00:01\\x1b[0m',\n",
              " '\\x1b[2K     \\x1b[90m━━━━━━━━━━━━━━━━━━━━━━━━━━━━━━━━━━━━━━━━\\x1b[0m \\x1b[32m6.5/6.5 MB\\x1b[0m \\x1b[31m98.8 MB/s\\x1b[0m eta \\x1b[36m0:00:00\\x1b[0m',\n",
              " '\\x1b[?25h  Building wheel for keras-nlp (pyproject.toml) ... \\x1b[?25l\\x1b[?25hdone']"
            ]
          },
          "metadata": {},
          "execution_count": 8
        }
      ],
      "source": [
        "!!pip install -q rouge-score\n",
        "!!pip install -q git+https://github.com/keras-team/keras-nlp.git --upgrade"
      ]
    },
    {
      "cell_type": "code",
      "execution_count": 9,
      "metadata": {
        "id": "ONXpsGQZlheS",
        "colab": {
          "base_uri": "https://localhost:8080/"
        },
        "outputId": "57550926-cf59-405d-c286-a84e4f1fef91"
      },
      "outputs": [
        {
          "output_type": "stream",
          "name": "stdout",
          "text": [
            "Using TensorFlow backend\n"
          ]
        }
      ],
      "source": [
        "import keras_nlp\n",
        "import pathlib\n",
        "import random\n",
        "import tensorflow as tf\n",
        "\n",
        "from tensorflow import keras\n",
        "from tensorflow_text.tools.wordpiece_vocab import (\n",
        "    bert_vocab_from_dataset as bert_vocab,\n",
        ")"
      ]
    },
    {
      "cell_type": "markdown",
      "metadata": {
        "id": "gFedU3UJlheS"
      },
      "source": [
        "Let's also define our parameters/hyperparameters."
      ]
    },
    {
      "cell_type": "code",
      "execution_count": 26,
      "metadata": {
        "id": "kkLk_zOdlheS"
      },
      "outputs": [],
      "source": [
        "BATCH_SIZE = 64\n",
        "EPOCHS = 30  # This should be at least 10 for convergence\n",
        "MAX_SEQUENCE_LENGTH = 40\n",
        "ENG_VOCAB_SIZE = 20\n",
        "SPA_VOCAB_SIZE = 100\n",
        "\n",
        "EMBED_DIM = 64\n",
        "INTERMEDIATE_DIM = 512\n",
        "NUM_HEADS = 8"
      ]
    },
    {
      "cell_type": "markdown",
      "metadata": {
        "id": "bWjJZiVDlheS"
      },
      "source": [
        "## Downloading the data\n",
        "\n",
        "We'll be working with an English-to-Spanish translation dataset\n",
        "provided by [Anki](https://www.manythings.org/anki/). Let's download it:"
      ]
    },
    {
      "cell_type": "code",
      "execution_count": 11,
      "metadata": {
        "id": "bbWb2u6tlheS",
        "colab": {
          "base_uri": "https://localhost:8080/"
        },
        "outputId": "67aa9bec-51b9-47eb-9990-b95a2785337c"
      },
      "outputs": [
        {
          "output_type": "stream",
          "name": "stdout",
          "text": [
            "Downloading data from http://storage.googleapis.com/download.tensorflow.org/data/spa-eng.zip\n",
            "2638744/2638744 [==============================] - 0s 0us/step\n"
          ]
        }
      ],
      "source": [
        "text_file = keras.utils.get_file(\n",
        "    fname=\"spa-eng.zip\",\n",
        "    origin=\"http://storage.googleapis.com/download.tensorflow.org/data/spa-eng.zip\",\n",
        "    extract=True,\n",
        ")\n",
        "text_file = pathlib.Path(text_file).parent / \"spa-eng\" / \"spa.txt\""
      ]
    },
    {
      "cell_type": "markdown",
      "metadata": {
        "id": "4lQ7QyDHlheT"
      },
      "source": [
        "## Parsing the data\n",
        "\n",
        "Each line contains an English sentence and its corresponding Spanish sentence.\n",
        "The English sentence is the *source sequence* and Spanish one is the *target sequence*.\n",
        "Before adding the text to a list, we convert it to lowercase."
      ]
    },
    {
      "cell_type": "code",
      "execution_count": 12,
      "metadata": {
        "id": "Mi25uh64lheT",
        "colab": {
          "base_uri": "https://localhost:8080/"
        },
        "outputId": "6141f604-d3a0-4989-a42f-34a69ce6af40"
      },
      "outputs": [
        {
          "output_type": "stream",
          "name": "stdout",
          "text": [
            "[('9 5 9', 'nine hundred fifty nine'), ('1 0 0', 'one hundred  '), ('8 2', 'eighty two'), ('3 2 3', 'three hundred twenty three'), ('2 8 8', 'two hundred eighty eight'), ('6 4 8', 'six hundred forty eight'), ('8 3 7', 'eight hundred thirty seven'), ('3 6 7', 'three hundred sixty seven'), ('8 1', 'eighty one'), ('9 3 8', 'nine hundred thirty eight'), ('3 0', 'thirty '), ('1 2 6', 'one hundred twenty six'), ('9 5 2', 'nine hundred fifty two'), ('3 6 6', 'three hundred sixty six'), ('4 3 8', 'four hundred thirty eight'), ('6 0 6', 'six hundred  six'), ('8 0 9', 'eight hundred  nine'), ('7 7', 'seventy seven'), ('4 2 6', 'four hundred twenty six'), ('3 7 7', 'three hundred seventy seven'), ('9 5 4', 'nine hundred fifty four'), ('4 0 4', 'four hundred  four'), ('3 0 6', 'three hundred  six'), ('5 1 3', 'five hundred thirteen'), ('8 7 6', 'eight hundred seventy six'), ('5 8 2', 'five hundred eighty two'), ('9 7 8', 'nine hundred seventy eight'), ('7 8 8', 'seven hundred eighty eight'), ('1 5 2', 'one hundred fifty two'), ('7 6 9', 'seven hundred sixty nine'), ('5 0 5', 'five hundred  five'), ('3 1 7', 'three hundred seventeen'), ('2 6 1', 'two hundred sixty one'), ('5 0 0', 'five hundred  '), ('2 6 7', 'two hundred sixty seven'), ('3 7 9', 'three hundred seventy nine'), ('9 3 9', 'nine hundred thirty nine'), ('9 2 4', 'nine hundred twenty four'), ('3 1 7', 'three hundred seventeen'), ('9 0 8', 'nine hundred  eight'), ('1 8 8', 'one hundred eighty eight'), ('4 5 5', 'four hundred fifty five'), ('1 1 0', 'one hundred ten'), ('3 4 6', 'three hundred forty six'), ('5 1 5', 'five hundred fifteen'), ('6 1 3', 'six hundred thirteen'), ('2', 'two'), ('9 7 4', 'nine hundred seventy four'), ('7 9 2', 'seven hundred ninety two'), ('4 4 3', 'four hundred forty three'), ('7 8 8', 'seven hundred eighty eight'), ('5 9 8', 'five hundred ninety eight'), ('5 0 8', 'five hundred  eight'), ('3 6 8', 'three hundred sixty eight'), ('1 0 9', 'one hundred  nine'), ('4 6 6', 'four hundred sixty six'), ('1 1 1', 'one hundred eleven'), ('6 4 4', 'six hundred forty four'), ('1 9 0', 'one hundred ninety '), ('1 1 3', 'one hundred thirteen'), ('7 7', 'seventy seven'), ('2 3 0', 'two hundred thirty '), ('2 5 9', 'two hundred fifty nine'), ('7 5 3', 'seven hundred fifty three'), ('7 0 8', 'seven hundred  eight'), ('9 7 6', 'nine hundred seventy six'), ('1 7 4', 'one hundred seventy four'), ('1 4 0', 'one hundred forty '), ('7 7', 'seventy seven'), ('7 7 2', 'seven hundred seventy two'), ('8 4 6', 'eight hundred forty six'), ('2 6 5', 'two hundred sixty five'), ('9 9 0', 'nine hundred ninety '), ('1 8 3', 'one hundred eighty three'), ('7 4', 'seventy four'), ('6 5 0', 'six hundred fifty '), ('5 3 5', 'five hundred thirty five'), ('6 7 1', 'six hundred seventy one'), ('6 4', 'sixty four'), ('4 8 7', 'four hundred eighty seven'), ('3 1 5', 'three hundred fifteen'), ('1 9 1', 'one hundred ninety one'), ('4 6 4', 'four hundred sixty four'), ('2 7 1', 'two hundred seventy one'), ('7 9 0', 'seven hundred ninety '), ('5 5 0', 'five hundred fifty '), ('8 2', 'eighty two'), ('2', 'two'), ('6 9', 'sixty nine'), ('5 0 0', 'five hundred  '), ('8 1 6', 'eight hundred sixteen'), ('1 4 3', 'one hundred forty three'), ('3 7 1', 'three hundred seventy one'), ('5 4 2', 'five hundred forty two'), ('2 7 4', 'two hundred seventy four'), ('6 9 9', 'six hundred ninety nine'), ('5 7 5', 'five hundred seventy five'), ('5 0 6', 'five hundred  six'), ('2 8 9', 'two hundred eighty nine'), ('2 0 5', 'two hundred  five')]\n"
          ]
        }
      ],
      "source": [
        "import random\n",
        "\n",
        "def number_to_words(num):\n",
        "    ones = [\"\", \"one\", \"two\", \"three\", \"four\", \"five\", \"six\", \"seven\", \"eight\", \"nine\"]\n",
        "    teens = [\"ten\", \"eleven\", \"twelve\", \"thirteen\", \"fourteen\", \"fifteen\", \"sixteen\", \"seventeen\", \"eighteen\", \"nineteen\"]\n",
        "    tens = [\"\", \"\", \"twenty\", \"thirty\", \"forty\", \"fifty\", \"sixty\", \"seventy\", \"eighty\", \"ninety\"]\n",
        "    hundreds = [\"\", \"one hundred\", \"two hundred\", \"three hundred\", \"four hundred\", \"five hundred\", \"six hundred\", \"seven hundred\", \"eight hundred\", \"nine hundred\"]\n",
        "\n",
        "    if num == 0:\n",
        "        return \"zero\"\n",
        "    elif 1 <= num <= 9:\n",
        "        return ones[num]\n",
        "    elif 10 <= num <= 19:\n",
        "        return teens[num - 10]\n",
        "    elif 20 <= num <= 99:\n",
        "        tens_digit = num // 10\n",
        "        ones_digit = num % 10\n",
        "        return tens[tens_digit] + \" \" + ones[ones_digit]\n",
        "    elif 100 <= num <= 999:\n",
        "        hundreds_digit = num // 100\n",
        "        tens_digit = (num // 10) % 10\n",
        "        ones_digit = num % 10\n",
        "        if tens_digit == 1:\n",
        "            tens_ones_string = teens[ones_digit]\n",
        "        else:\n",
        "            tens_ones_string = tens[tens_digit] + \" \" + ones[ones_digit]\n",
        "        return hundreds[hundreds_digit] + \" \" + tens_ones_string\n",
        "\n",
        "\n",
        "text_pairs = []\n",
        "for _ in range(1000):\n",
        "    number = random.randint(0, 999)\n",
        "    num_string = \" \".join(list(str(number)))\n",
        "    word_form = number_to_words(number)\n",
        "    text_pairs.append((num_string, word_form))\n",
        "\n",
        "print(text_pairs[:100])"
      ]
    },
    {
      "cell_type": "markdown",
      "metadata": {
        "id": "g5yQ0c6slheT"
      },
      "source": [
        "Here's what our sentence pairs look like:"
      ]
    },
    {
      "cell_type": "code",
      "execution_count": 13,
      "metadata": {
        "id": "ZxqkATUflheT",
        "colab": {
          "base_uri": "https://localhost:8080/"
        },
        "outputId": "dbf22085-6da6-4e46-a988-e00d4b7d9906"
      },
      "outputs": [
        {
          "output_type": "stream",
          "name": "stdout",
          "text": [
            "('7 6 0', 'seven hundred sixty ')\n",
            "('9 2 5', 'nine hundred twenty five')\n",
            "('4 4 5', 'four hundred forty five')\n",
            "('8 1 4', 'eight hundred fourteen')\n",
            "('2 9 7', 'two hundred ninety seven')\n"
          ]
        }
      ],
      "source": [
        "for _ in range(5):\n",
        "    print(random.choice(text_pairs))"
      ]
    },
    {
      "cell_type": "markdown",
      "metadata": {
        "id": "QBGUoMZ_lheT"
      },
      "source": [
        "Now, let's split the sentence pairs into a training set, a validation set,\n",
        "and a test set."
      ]
    },
    {
      "cell_type": "code",
      "execution_count": 14,
      "metadata": {
        "id": "n-AaZkQglheU",
        "colab": {
          "base_uri": "https://localhost:8080/"
        },
        "outputId": "4c59148d-da8d-4938-9abd-2cb5b8745b74"
      },
      "outputs": [
        {
          "output_type": "stream",
          "name": "stdout",
          "text": [
            "1000 total pairs\n",
            "700 training pairs\n",
            "150 validation pairs\n",
            "150 test pairs\n"
          ]
        }
      ],
      "source": [
        "num_val_samples = int(0.15 * len(text_pairs))\n",
        "num_train_samples = len(text_pairs) - 2 * num_val_samples\n",
        "train_pairs = text_pairs[:num_train_samples]\n",
        "val_pairs = text_pairs[num_train_samples : num_train_samples + num_val_samples]\n",
        "test_pairs = text_pairs[num_train_samples + num_val_samples :]\n",
        "\n",
        "print(f\"{len(text_pairs)} total pairs\")\n",
        "print(f\"{len(train_pairs)} training pairs\")\n",
        "print(f\"{len(val_pairs)} validation pairs\")\n",
        "print(f\"{len(test_pairs)} test pairs\")\n"
      ]
    },
    {
      "cell_type": "markdown",
      "metadata": {
        "id": "gFARoT1GlheU"
      },
      "source": [
        "## Tokenizing the data\n",
        "\n",
        "We'll define two tokenizers - one for the source language (English), and the other\n",
        "for the target language (Spanish). We'll be using\n",
        "`keras_nlp.tokenizers.WordPieceTokenizer` to tokenize the text.\n",
        "`keras_nlp.tokenizers.WordPieceTokenizer` takes a WordPiece vocabulary\n",
        "and has functions for tokenizing the text, and detokenizing sequences of tokens.\n",
        "\n",
        "Before we define the two tokenizers, we first need to train them on the dataset\n",
        "we have. The WordPiece tokenization algorithm is a subword tokenization algorithm;\n",
        "training it on a corpus gives us a vocabulary of subwords. A subword tokenizer\n",
        "is a compromise between word tokenizers (word tokenizers need very large\n",
        "vocabularies for good coverage of input words), and character tokenizers\n",
        "(characters don't really encode meaning like words do). Luckily, KerasNLP\n",
        "makes it very simple to train WordPiece on a corpus with the\n",
        "`keras_nlp.tokenizers.compute_word_piece_vocabulary` utility."
      ]
    },
    {
      "cell_type": "code",
      "execution_count": 15,
      "metadata": {
        "id": "K1uPRVdalheU"
      },
      "outputs": [],
      "source": [
        "\n",
        "def train_word_piece(text_samples, vocab_size, reserved_tokens):\n",
        "    word_piece_ds = tf.data.Dataset.from_tensor_slices(text_samples)\n",
        "    vocab = keras_nlp.tokenizers.compute_word_piece_vocabulary(\n",
        "        word_piece_ds.batch(1000).prefetch(2),\n",
        "        vocabulary_size=vocab_size,\n",
        "        reserved_tokens=reserved_tokens,\n",
        "    )\n",
        "    return vocab\n"
      ]
    },
    {
      "cell_type": "markdown",
      "metadata": {
        "id": "fTLwS6v3lheU"
      },
      "source": [
        "Every vocabulary has a few special, reserved tokens. We have four such tokens:\n",
        "\n",
        "- `\"[PAD]\"` - Padding token. Padding tokens are appended to the input sequence\n",
        "length when the input sequence length is shorter than the maximum sequence length.\n",
        "- `\"[UNK]\"` - Unknown token.\n",
        "- `\"[START]\"` - Token that marks the start of the input sequence.\n",
        "- `\"[END]\"` - Token that marks the end of the input sequence."
      ]
    },
    {
      "cell_type": "code",
      "execution_count": 16,
      "metadata": {
        "id": "HBJ9T9HJlheU"
      },
      "outputs": [],
      "source": [
        "reserved_tokens = [\"[PAD]\", \"[UNK]\", \"[START]\", \"[END]\"]\n",
        "\n",
        "eng_samples = [text_pair[0] for text_pair in train_pairs]\n",
        "eng_vocab = train_word_piece(eng_samples, ENG_VOCAB_SIZE, reserved_tokens)\n",
        "\n",
        "spa_samples = [text_pair[1] for text_pair in train_pairs]\n",
        "spa_vocab = train_word_piece(spa_samples, SPA_VOCAB_SIZE, reserved_tokens)"
      ]
    },
    {
      "cell_type": "markdown",
      "metadata": {
        "id": "3iauA0bTlheU"
      },
      "source": [
        "Let's see some tokens!"
      ]
    },
    {
      "cell_type": "code",
      "execution_count": 17,
      "metadata": {
        "id": "x1WiesN3lheV",
        "colab": {
          "base_uri": "https://localhost:8080/"
        },
        "outputId": "f876155d-b2b0-4434-c02e-817cbe61bd9d"
      },
      "outputs": [
        {
          "output_type": "stream",
          "name": "stdout",
          "text": [
            "English Tokens:  []\n",
            "Spanish Tokens:  []\n"
          ]
        }
      ],
      "source": [
        "print(\"English Tokens: \", eng_vocab[100:110])\n",
        "print(\"Spanish Tokens: \", spa_vocab[100:110])"
      ]
    },
    {
      "cell_type": "markdown",
      "metadata": {
        "id": "R9e2QMpclheV"
      },
      "source": [
        "Now, let's define the tokenizers. We will configure the tokenizers with the\n",
        "the vocabularies trained above."
      ]
    },
    {
      "cell_type": "code",
      "execution_count": 18,
      "metadata": {
        "id": "tfWzou_elheV"
      },
      "outputs": [],
      "source": [
        "eng_tokenizer = keras_nlp.tokenizers.WordPieceTokenizer(\n",
        "    vocabulary=eng_vocab, lowercase=False\n",
        ")\n",
        "spa_tokenizer = keras_nlp.tokenizers.WordPieceTokenizer(\n",
        "    vocabulary=spa_vocab, lowercase=False\n",
        ")"
      ]
    },
    {
      "cell_type": "markdown",
      "metadata": {
        "id": "UbZ3BcAGlheV"
      },
      "source": [
        "Let's try and tokenize a sample from our dataset! To verify whether the text has\n",
        "been tokenized correctly, we can also detokenize the list of tokens back to the\n",
        "original text."
      ]
    },
    {
      "cell_type": "code",
      "execution_count": 19,
      "metadata": {
        "id": "-eJlt3GRlheV",
        "colab": {
          "base_uri": "https://localhost:8080/"
        },
        "outputId": "fdc42414-94b8-43eb-e1e2-222f251dcfa3"
      },
      "outputs": [
        {
          "output_type": "stream",
          "name": "stdout",
          "text": [
            "English sentence:  9 5 9\n",
            "Tokens:  tf.Tensor([13  9 13], shape=(3,), dtype=int32)\n",
            "Recovered text after detokenizing:  tf.Tensor(b'9 5 9', shape=(), dtype=string)\n",
            "\n",
            "Spanish sentence:  nine hundred fifty nine\n",
            "Tokens:  tf.Tensor([25 22 39 25], shape=(4,), dtype=int32)\n",
            "Recovered text after detokenizing:  tf.Tensor(b'nine hundred fifty nine', shape=(), dtype=string)\n"
          ]
        }
      ],
      "source": [
        "eng_input_ex = text_pairs[0][0]\n",
        "eng_tokens_ex = eng_tokenizer.tokenize(eng_input_ex)\n",
        "print(\"English sentence: \", eng_input_ex)\n",
        "print(\"Tokens: \", eng_tokens_ex)\n",
        "print(\n",
        "    \"Recovered text after detokenizing: \",\n",
        "    eng_tokenizer.detokenize(eng_tokens_ex),\n",
        ")\n",
        "\n",
        "print()\n",
        "\n",
        "spa_input_ex = text_pairs[0][1]\n",
        "spa_tokens_ex = spa_tokenizer.tokenize(spa_input_ex)\n",
        "print(\"Spanish sentence: \", spa_input_ex)\n",
        "print(\"Tokens: \", spa_tokens_ex)\n",
        "print(\n",
        "    \"Recovered text after detokenizing: \",\n",
        "    spa_tokenizer.detokenize(spa_tokens_ex),\n",
        ")"
      ]
    },
    {
      "cell_type": "markdown",
      "metadata": {
        "id": "MjdpvoMdlheV"
      },
      "source": [
        "## Format datasets\n",
        "\n",
        "Next, we'll format our datasets.\n",
        "\n",
        "At each training step, the model will seek to predict target words N+1 (and beyond)\n",
        "using the source sentence and the target words 0 to N.\n",
        "\n",
        "As such, the training dataset will yield a tuple `(inputs, targets)`, where:\n",
        "\n",
        "- `inputs` is a dictionary with the keys `encoder_inputs` and `decoder_inputs`.\n",
        "`encoder_inputs` is the tokenized source sentence and `decoder_inputs` is the target\n",
        "sentence \"so far\",\n",
        "that is to say, the words 0 to N used to predict word N+1 (and beyond) in the target\n",
        "sentence.\n",
        "- `target` is the target sentence offset by one step:\n",
        "it provides the next words in the target sentence -- what the model will try to predict.\n",
        "\n",
        "We will add special tokens, `\"[START]\"` and `\"[END]\"`, to the input Spanish\n",
        "sentence after tokenizing the text. We will also pad the input to a fixed length.\n",
        "This can be easily done using `keras_nlp.layers.StartEndPacker`."
      ]
    },
    {
      "cell_type": "code",
      "execution_count": 20,
      "metadata": {
        "id": "DDRZOJRSlheW"
      },
      "outputs": [],
      "source": [
        "\n",
        "def preprocess_batch(eng, spa):\n",
        "    batch_size = tf.shape(spa)[0]\n",
        "\n",
        "    eng = eng_tokenizer(eng)\n",
        "    spa = spa_tokenizer(spa)\n",
        "\n",
        "    # Pad `eng` to `MAX_SEQUENCE_LENGTH`.\n",
        "    eng_start_end_packer = keras_nlp.layers.StartEndPacker(\n",
        "        sequence_length=MAX_SEQUENCE_LENGTH,\n",
        "        pad_value=eng_tokenizer.token_to_id(\"[PAD]\"),\n",
        "    )\n",
        "    eng = eng_start_end_packer(eng)\n",
        "\n",
        "    # Add special tokens (`\"[START]\"` and `\"[END]\"`) to `spa` and pad it as well.\n",
        "    spa_start_end_packer = keras_nlp.layers.StartEndPacker(\n",
        "        sequence_length=MAX_SEQUENCE_LENGTH + 1,\n",
        "        start_value=spa_tokenizer.token_to_id(\"[START]\"),\n",
        "        end_value=spa_tokenizer.token_to_id(\"[END]\"),\n",
        "        pad_value=spa_tokenizer.token_to_id(\"[PAD]\"),\n",
        "    )\n",
        "    spa = spa_start_end_packer(spa)\n",
        "\n",
        "    return (\n",
        "        {\n",
        "            \"encoder_inputs\": eng,\n",
        "            \"decoder_inputs\": spa[:, :-1],\n",
        "        },\n",
        "        spa[:, 1:],\n",
        "    )\n",
        "\n",
        "\n",
        "def make_dataset(pairs):\n",
        "    eng_texts, spa_texts = zip(*pairs)\n",
        "    eng_texts = list(eng_texts)\n",
        "    spa_texts = list(spa_texts)\n",
        "    dataset = tf.data.Dataset.from_tensor_slices((eng_texts, spa_texts))\n",
        "    dataset = dataset.batch(BATCH_SIZE)\n",
        "    dataset = dataset.map(preprocess_batch, num_parallel_calls=tf.data.AUTOTUNE)\n",
        "    return dataset.shuffle(2048).prefetch(16).cache()\n",
        "\n",
        "\n",
        "train_ds = make_dataset(train_pairs)\n",
        "val_ds = make_dataset(val_pairs)"
      ]
    },
    {
      "cell_type": "markdown",
      "metadata": {
        "id": "5XZQAigZlheW"
      },
      "source": [
        "Let's take a quick look at the sequence shapes\n",
        "(we have batches of 64 pairs, and all sequences are 40 steps long):"
      ]
    },
    {
      "cell_type": "code",
      "execution_count": 21,
      "metadata": {
        "id": "sjITyMatlheW",
        "colab": {
          "base_uri": "https://localhost:8080/"
        },
        "outputId": "e73ae08d-19ee-4783-8e07-aeb8f9be8850"
      },
      "outputs": [
        {
          "output_type": "stream",
          "name": "stdout",
          "text": [
            "inputs[\"encoder_inputs\"].shape: (64, 40)\n",
            "inputs[\"decoder_inputs\"].shape: (64, 40)\n",
            "targets.shape: (64, 40)\n"
          ]
        }
      ],
      "source": [
        "for inputs, targets in train_ds.take(1):\n",
        "    print(f'inputs[\"encoder_inputs\"].shape: {inputs[\"encoder_inputs\"].shape}')\n",
        "    print(f'inputs[\"decoder_inputs\"].shape: {inputs[\"decoder_inputs\"].shape}')\n",
        "    print(f\"targets.shape: {targets.shape}\")\n"
      ]
    },
    {
      "cell_type": "markdown",
      "metadata": {
        "id": "ZEmALUY3lheW"
      },
      "source": [
        "## Building the model\n",
        "\n",
        "Now, let's move on to the exciting part - defining our model!\n",
        "We first need an embedding layer, i.e., a vector for every token in our input sequence.\n",
        "This embedding layer can be initialised randomly. We also need a positional\n",
        "embedding layer which encodes the word order in the sequence. The convention is\n",
        "to add these two embeddings. KerasNLP has a `keras_nlp.layers.TokenAndPositionEmbedding `\n",
        "layer which does all of the above steps for us.\n",
        "\n",
        "Our sequence-to-sequence Transformer consists of a `keras_nlp.layers.TransformerEncoder`\n",
        "layer and a `keras_nlp.layers.TransformerDecoder` layer chained together.\n",
        "\n",
        "The source sequence will be passed to `keras_nlp.layers.TransformerEncoder`, which\n",
        "will produce a new representation of it. This new representation will then be passed\n",
        "to the `keras_nlp.layers.TransformerDecoder`, together with the target sequence\n",
        "so far (target words 0 to N). The `keras_nlp.layers.TransformerDecoder` will\n",
        "then seek to predict the next words in the target sequence (N+1 and beyond).\n",
        "\n",
        "A key detail that makes this possible is causal masking.\n",
        "The `keras_nlp.layers.TransformerDecoder` sees the entire sequence at once, and\n",
        "thus we must make sure that it only uses information from target tokens 0 to N\n",
        "when predicting token N+1 (otherwise, it could use information from the future,\n",
        "which would result in a model that cannot be used at inference time). Causal masking\n",
        "is enabled by default in `keras_nlp.layers.TransformerDecoder`.\n",
        "\n",
        "We also need to mask the padding tokens (`\"[PAD]\"`). For this, we can set the\n",
        "`mask_zero` argument of the `keras_nlp.layers.TokenAndPositionEmbedding` layer\n",
        "to True. This will then be propagated to all subsequent layers."
      ]
    },
    {
      "cell_type": "code",
      "execution_count": 22,
      "metadata": {
        "id": "CL8JhgPClheW"
      },
      "outputs": [],
      "source": [
        "# Encoder\n",
        "encoder_inputs = keras.Input(shape=(None,), dtype=\"int64\", name=\"encoder_inputs\")\n",
        "\n",
        "x = keras_nlp.layers.TokenAndPositionEmbedding(\n",
        "    vocabulary_size=ENG_VOCAB_SIZE,\n",
        "    sequence_length=MAX_SEQUENCE_LENGTH,\n",
        "    embedding_dim=EMBED_DIM,\n",
        "    mask_zero=True,\n",
        ")(encoder_inputs)\n",
        "\n",
        "encoder_outputs = keras_nlp.layers.TransformerEncoder(\n",
        "    intermediate_dim=INTERMEDIATE_DIM, num_heads=NUM_HEADS\n",
        ")(inputs=x)\n",
        "encoder = keras.Model(encoder_inputs, encoder_outputs)\n",
        "\n",
        "\n",
        "# Decoder\n",
        "decoder_inputs = keras.Input(shape=(None,), dtype=\"int64\", name=\"decoder_inputs\")\n",
        "encoded_seq_inputs = keras.Input(shape=(None, EMBED_DIM), name=\"decoder_state_inputs\")\n",
        "\n",
        "x = keras_nlp.layers.TokenAndPositionEmbedding(\n",
        "    vocabulary_size=SPA_VOCAB_SIZE,\n",
        "    sequence_length=MAX_SEQUENCE_LENGTH,\n",
        "    embedding_dim=EMBED_DIM,\n",
        "    mask_zero=True,\n",
        ")(decoder_inputs)\n",
        "\n",
        "x = keras_nlp.layers.TransformerDecoder(\n",
        "    intermediate_dim=INTERMEDIATE_DIM, num_heads=NUM_HEADS\n",
        ")(decoder_sequence=x, encoder_sequence=encoded_seq_inputs)\n",
        "x = keras.layers.Dropout(0.5)(x)\n",
        "decoder_outputs = keras.layers.Dense(SPA_VOCAB_SIZE, activation=\"softmax\")(x)\n",
        "decoder = keras.Model(\n",
        "    [\n",
        "        decoder_inputs,\n",
        "        encoded_seq_inputs,\n",
        "    ],\n",
        "    decoder_outputs,\n",
        ")\n",
        "decoder_outputs = decoder([decoder_inputs, encoder_outputs])\n",
        "\n",
        "transformer = keras.Model(\n",
        "    [encoder_inputs, decoder_inputs],\n",
        "    decoder_outputs,\n",
        "    name=\"transformer\",\n",
        ")"
      ]
    },
    {
      "cell_type": "markdown",
      "metadata": {
        "id": "-VgXP0YRlheW"
      },
      "source": [
        "## Training our model\n",
        "\n",
        "We'll use accuracy as a quick way to monitor training progress on the validation data.\n",
        "Note that machine translation typically uses BLEU scores as well as other metrics,\n",
        "rather than accuracy. However, in order to use metrics like ROUGE, BLEU, etc. we\n",
        "will have decode the probabilities and generate the text. Text generation is\n",
        "computationally expensive, and performing this during training is not recommended.\n",
        "\n",
        "Here we only train for 1 epoch, but to get the model to actually converge\n",
        "you should train for at least 10 epochs."
      ]
    },
    {
      "cell_type": "code",
      "execution_count": 27,
      "metadata": {
        "id": "0q9qkO-2lheX",
        "colab": {
          "base_uri": "https://localhost:8080/"
        },
        "outputId": "1bffe311-33c3-4596-83fa-af4cc8a94505"
      },
      "outputs": [
        {
          "output_type": "stream",
          "name": "stdout",
          "text": [
            "Model: \"transformer\"\n",
            "__________________________________________________________________________________________________\n",
            " Layer (type)                Output Shape                 Param #   Connected to                  \n",
            "==================================================================================================\n",
            " encoder_inputs (InputLayer  [(None, None)]               0         []                            \n",
            " )                                                                                                \n",
            "                                                                                                  \n",
            " token_and_position_embeddi  (None, None, 64)             3840      ['encoder_inputs[0][0]']      \n",
            " ng (TokenAndPositionEmbedd                                                                       \n",
            " ing)                                                                                             \n",
            "                                                                                                  \n",
            " decoder_inputs (InputLayer  [(None, None)]               0         []                            \n",
            " )                                                                                                \n",
            "                                                                                                  \n",
            " transformer_encoder (Trans  (None, None, 64)             83008     ['token_and_position_embedding\n",
            " formerEncoder)                                                     [0][0]']                      \n",
            "                                                                                                  \n",
            " model_1 (Functional)        (None, None, 100)            115236    ['decoder_inputs[0][0]',      \n",
            "                                                                     'transformer_encoder[0][0]'] \n",
            "                                                                                                  \n",
            "==================================================================================================\n",
            "Total params: 202084 (789.39 KB)\n",
            "Trainable params: 202084 (789.39 KB)\n",
            "Non-trainable params: 0 (0.00 Byte)\n",
            "__________________________________________________________________________________________________\n",
            "Epoch 1/30\n",
            "11/11 [==============================] - 7s 162ms/step - loss: 1.6668 - accuracy: 0.5818 - val_loss: 1.0253 - val_accuracy: 0.7993\n",
            "Epoch 2/30\n",
            "11/11 [==============================] - 0s 28ms/step - loss: 0.9473 - accuracy: 0.7887 - val_loss: 0.5015 - val_accuracy: 0.9214\n",
            "Epoch 3/30\n",
            "11/11 [==============================] - 0s 23ms/step - loss: 0.5437 - accuracy: 0.9088 - val_loss: 0.2929 - val_accuracy: 0.9554\n",
            "Epoch 4/30\n",
            "11/11 [==============================] - 0s 27ms/step - loss: 0.3524 - accuracy: 0.9503 - val_loss: 0.2078 - val_accuracy: 0.9683\n",
            "Epoch 5/30\n",
            "11/11 [==============================] - 0s 28ms/step - loss: 0.2738 - accuracy: 0.9610 - val_loss: 0.1497 - val_accuracy: 0.9777\n",
            "Epoch 6/30\n",
            "11/11 [==============================] - 0s 26ms/step - loss: 0.2197 - accuracy: 0.9642 - val_loss: 0.0987 - val_accuracy: 0.9812\n",
            "Epoch 7/30\n",
            "11/11 [==============================] - 0s 18ms/step - loss: 0.1656 - accuracy: 0.9776 - val_loss: 0.0662 - val_accuracy: 0.9871\n",
            "Epoch 8/30\n",
            "11/11 [==============================] - 0s 18ms/step - loss: 0.1064 - accuracy: 0.9851 - val_loss: 0.0495 - val_accuracy: 0.9953\n",
            "Epoch 9/30\n",
            "11/11 [==============================] - 0s 17ms/step - loss: 0.1004 - accuracy: 0.9873 - val_loss: 0.0312 - val_accuracy: 0.9941\n",
            "Epoch 10/30\n",
            "11/11 [==============================] - 0s 18ms/step - loss: 0.0621 - accuracy: 0.9953 - val_loss: 0.0275 - val_accuracy: 0.9953\n",
            "Epoch 11/30\n",
            "11/11 [==============================] - 0s 18ms/step - loss: 0.0499 - accuracy: 0.9963 - val_loss: 0.0277 - val_accuracy: 0.9953\n",
            "Epoch 12/30\n",
            "11/11 [==============================] - 0s 19ms/step - loss: 0.0482 - accuracy: 0.9953 - val_loss: 0.0239 - val_accuracy: 0.9953\n",
            "Epoch 13/30\n",
            "11/11 [==============================] - 0s 19ms/step - loss: 0.0431 - accuracy: 0.9943 - val_loss: 0.0219 - val_accuracy: 0.9953\n",
            "Epoch 14/30\n",
            "11/11 [==============================] - 0s 18ms/step - loss: 0.0250 - accuracy: 0.9980 - val_loss: 0.0136 - val_accuracy: 0.9953\n",
            "Epoch 15/30\n",
            "11/11 [==============================] - 0s 19ms/step - loss: 0.0211 - accuracy: 0.9990 - val_loss: 0.0126 - val_accuracy: 0.9953\n",
            "Epoch 16/30\n",
            "11/11 [==============================] - 0s 18ms/step - loss: 0.0182 - accuracy: 0.9988 - val_loss: 0.0100 - val_accuracy: 0.9988\n",
            "Epoch 17/30\n",
            "11/11 [==============================] - 0s 24ms/step - loss: 0.0152 - accuracy: 0.9985 - val_loss: 0.0093 - val_accuracy: 0.9977\n",
            "Epoch 18/30\n",
            "11/11 [==============================] - 0s 18ms/step - loss: 0.0136 - accuracy: 0.9985 - val_loss: 0.0103 - val_accuracy: 0.9965\n",
            "Epoch 19/30\n",
            "11/11 [==============================] - 0s 27ms/step - loss: 0.0170 - accuracy: 0.9988 - val_loss: 0.0074 - val_accuracy: 0.9988\n",
            "Epoch 20/30\n",
            "11/11 [==============================] - 0s 27ms/step - loss: 0.0100 - accuracy: 0.9993 - val_loss: 0.0095 - val_accuracy: 0.9977\n",
            "Epoch 21/30\n",
            "11/11 [==============================] - 0s 19ms/step - loss: 0.0107 - accuracy: 0.9990 - val_loss: 0.0063 - val_accuracy: 0.9988\n",
            "Epoch 22/30\n",
            "11/11 [==============================] - 0s 19ms/step - loss: 0.0175 - accuracy: 0.9965 - val_loss: 0.0030 - val_accuracy: 0.9988\n",
            "Epoch 23/30\n",
            "11/11 [==============================] - 0s 18ms/step - loss: 0.0072 - accuracy: 0.9998 - val_loss: 0.0069 - val_accuracy: 0.9988\n",
            "Epoch 24/30\n",
            "11/11 [==============================] - 0s 22ms/step - loss: 0.0059 - accuracy: 0.9993 - val_loss: 0.0053 - val_accuracy: 0.9988\n",
            "Epoch 25/30\n",
            "11/11 [==============================] - 0s 17ms/step - loss: 0.0049 - accuracy: 0.9998 - val_loss: 0.0056 - val_accuracy: 0.9988\n",
            "Epoch 26/30\n",
            "11/11 [==============================] - 0s 18ms/step - loss: 0.0064 - accuracy: 0.9993 - val_loss: 0.0024 - val_accuracy: 0.9988\n",
            "Epoch 27/30\n",
            "11/11 [==============================] - 0s 18ms/step - loss: 0.0049 - accuracy: 0.9995 - val_loss: 0.0063 - val_accuracy: 0.9988\n",
            "Epoch 28/30\n",
            "11/11 [==============================] - 0s 18ms/step - loss: 0.0079 - accuracy: 0.9990 - val_loss: 0.0197 - val_accuracy: 0.9941\n",
            "Epoch 29/30\n",
            "11/11 [==============================] - 0s 18ms/step - loss: 0.0208 - accuracy: 0.9958 - val_loss: 0.0026 - val_accuracy: 0.9988\n",
            "Epoch 30/30\n",
            "11/11 [==============================] - 0s 17ms/step - loss: 0.0064 - accuracy: 0.9990 - val_loss: 0.0059 - val_accuracy: 0.9988\n"
          ]
        },
        {
          "output_type": "execute_result",
          "data": {
            "text/plain": [
              "<keras.src.callbacks.History at 0x7dffa0deece0>"
            ]
          },
          "metadata": {},
          "execution_count": 27
        }
      ],
      "source": [
        "transformer.summary()\n",
        "transformer.compile(\n",
        "    \"rmsprop\", loss=\"sparse_categorical_crossentropy\", metrics=[\"accuracy\"]\n",
        ")\n",
        "transformer.fit(train_ds, epochs=EPOCHS, validation_data=val_ds)"
      ]
    },
    {
      "cell_type": "markdown",
      "metadata": {
        "id": "1yx588EelheX"
      },
      "source": [
        "## Decoding test sentences (qualitative analysis)\n",
        "\n",
        "Finally, let's demonstrate how to translate brand new English sentences.\n",
        "We simply feed into the model the tokenized English sentence\n",
        "as well as the target token `\"[START]\"`. The model outputs probabilities of the\n",
        "next token. We then we repeatedly generated the next token conditioned on the\n",
        "tokens generated so far, until we hit the token `\"[END]\"`.\n",
        "\n",
        "For decoding, we will use the `keras_nlp.samplers` module from\n",
        "KerasNLP. Greedy Decoding is a text decoding method which outputs the most\n",
        "likely next token at each time step, i.e., the token with the highest probability."
      ]
    },
    {
      "cell_type": "code",
      "execution_count": 28,
      "metadata": {
        "id": "e9fKl8rMlheX",
        "colab": {
          "base_uri": "https://localhost:8080/"
        },
        "outputId": "55b55c9e-30df-454f-c17e-d7a36a0e9776"
      },
      "outputs": [
        {
          "output_type": "stream",
          "name": "stdout",
          "text": [
            "** Example 0 **\n",
            "4 6 0\n",
            "four hundred sixty\n",
            "\n",
            "** Example 1 **\n",
            "9 6 9\n",
            "nine hundred sixty nine\n",
            "\n",
            "** Example 2 **\n",
            "1 9 4\n",
            "one hundred ninety four\n",
            "\n",
            "** Example 3 **\n",
            "7 5 5\n",
            "seven hundred fifty five\n",
            "\n",
            "** Example 4 **\n",
            "1 4 9\n",
            "one hundred forty nine\n",
            "\n",
            "** Example 5 **\n",
            "5 8 1\n",
            "five hundred eighty one\n",
            "\n",
            "** Example 6 **\n",
            "7 5 0\n",
            "seven hundred fifty\n",
            "\n",
            "** Example 7 **\n",
            "4 6 1\n",
            "four hundred sixty one\n",
            "\n",
            "** Example 8 **\n",
            "3 0\n",
            "thirty\n",
            "\n",
            "** Example 9 **\n",
            "7 6 1\n",
            "seven hundred sixty one\n",
            "\n",
            "** Example 10 **\n",
            "7 5 7\n",
            "seven hundred fifty seven\n",
            "\n",
            "** Example 11 **\n",
            "9 6 7\n",
            "nine hundred sixty seven\n",
            "\n",
            "** Example 12 **\n",
            "8 7 7\n",
            "eight hundred seventy seven\n",
            "\n",
            "** Example 13 **\n",
            "1 9 4\n",
            "one hundred ninety four\n",
            "\n",
            "** Example 14 **\n",
            "9 1 4\n",
            "nine hundred fourteen\n",
            "\n",
            "** Example 15 **\n",
            "1 9 3\n",
            "one hundred ninety three\n",
            "\n",
            "** Example 16 **\n",
            "7\n",
            "seventy seven\n",
            "\n",
            "** Example 17 **\n",
            "9 5 4\n",
            "nine hundred fifty four\n",
            "\n",
            "** Example 18 **\n",
            "5 5 8\n",
            "five hundred fifty eight\n",
            "\n",
            "** Example 19 **\n",
            "9 1 6\n",
            "nine hundred sixteen\n",
            "\n"
          ]
        }
      ],
      "source": [
        "\n",
        "def decode_sequences(input_sentences):\n",
        "    batch_size = tf.shape(input_sentences)[0]\n",
        "\n",
        "    # Tokenize the encoder input.\n",
        "    encoder_input_tokens = eng_tokenizer(input_sentences).to_tensor(\n",
        "        shape=(None, MAX_SEQUENCE_LENGTH)\n",
        "    )\n",
        "\n",
        "    # Define a function that outputs the next token's probability given the\n",
        "    # input sequence.\n",
        "    def next(prompt, cache, index):\n",
        "        logits = transformer([encoder_input_tokens, prompt])[:, index - 1, :]\n",
        "        # Ignore hidden states for now; only needed for contrastive search.\n",
        "        hidden_states = None\n",
        "        return logits, hidden_states, cache\n",
        "\n",
        "    # Build a prompt of length 40 with a start token and padding tokens.\n",
        "    length = 40\n",
        "    start = tf.fill((batch_size, 1), spa_tokenizer.token_to_id(\"[START]\"))\n",
        "    pad = tf.fill((batch_size, length - 1), spa_tokenizer.token_to_id(\"[PAD]\"))\n",
        "    prompt = tf.concat((start, pad), axis=-1)\n",
        "\n",
        "    generated_tokens = keras_nlp.samplers.GreedySampler()(\n",
        "        next,\n",
        "        prompt,\n",
        "        end_token_id=spa_tokenizer.token_to_id(\"[END]\"),\n",
        "        index=1,  # Start sampling after start token.\n",
        "    )\n",
        "    generated_sentences = spa_tokenizer.detokenize(generated_tokens)\n",
        "    return generated_sentences\n",
        "\n",
        "\n",
        "test_eng_texts = [pair[0] for pair in test_pairs]\n",
        "for i in range(20):\n",
        "    input_sentence = random.choice(test_eng_texts)\n",
        "    translated = decode_sequences(tf.constant([input_sentence]))\n",
        "    translated = translated.numpy()[0].decode(\"utf-8\")\n",
        "    translated = (\n",
        "        translated.replace(\"[PAD]\", \"\")\n",
        "        .replace(\"[START]\", \"\")\n",
        "        .replace(\"[END]\", \"\")\n",
        "        .strip()\n",
        "    )\n",
        "    print(f\"** Example {i} **\")\n",
        "    print(input_sentence)\n",
        "    print(translated)\n",
        "    print()"
      ]
    },
    {
      "cell_type": "markdown",
      "metadata": {
        "id": "F9ELllJklheY"
      },
      "source": [
        "## Evaluating our model (quantitative analysis)\n",
        "\n",
        "There are many metrics which are used for text generation tasks. Here, to\n",
        "evaluate translations generated by our model, let's compute the ROUGE-1 and\n",
        "ROUGE-2 scores. Essentially, ROUGE-N is a score based on the number of common\n",
        "n-grams between the reference text and the generated text. ROUGE-1 and ROUGE-2\n",
        "use the number of common unigrams and bigrams, respectively.\n",
        "\n",
        "We will calculate the score over 30 test samples (since decoding is an\n",
        "expensive process)."
      ]
    },
    {
      "cell_type": "code",
      "execution_count": 25,
      "metadata": {
        "id": "9htddMUFlheY",
        "colab": {
          "base_uri": "https://localhost:8080/"
        },
        "outputId": "5c4da8de-a349-4d62-d66d-8451796921bf"
      },
      "outputs": [
        {
          "output_type": "stream",
          "name": "stdout",
          "text": [
            "ROUGE-1 Score:  {'precision': <tf.Tensor: shape=(), dtype=float32, numpy=0.4194444>, 'recall': <tf.Tensor: shape=(), dtype=float32, numpy=0.37222221>, 'f1_score': <tf.Tensor: shape=(), dtype=float32, numpy=0.38849202>}\n",
            "ROUGE-2 Score:  {'precision': <tf.Tensor: shape=(), dtype=float32, numpy=0.1611111>, 'recall': <tf.Tensor: shape=(), dtype=float32, numpy=0.15000002>, 'f1_score': <tf.Tensor: shape=(), dtype=float32, numpy=0.14666668>}\n"
          ]
        }
      ],
      "source": [
        "rouge_1 = keras_nlp.metrics.RougeN(order=1)\n",
        "rouge_2 = keras_nlp.metrics.RougeN(order=2)\n",
        "\n",
        "for test_pair in test_pairs[:30]:\n",
        "    input_sentence = test_pair[0]\n",
        "    reference_sentence = test_pair[1]\n",
        "\n",
        "    translated_sentence = decode_sequences(tf.constant([input_sentence]))\n",
        "    translated_sentence = translated_sentence.numpy()[0].decode(\"utf-8\")\n",
        "    translated_sentence = (\n",
        "        translated_sentence.replace(\"[PAD]\", \"\")\n",
        "        .replace(\"[START]\", \"\")\n",
        "        .replace(\"[END]\", \"\")\n",
        "        .strip()\n",
        "    )\n",
        "\n",
        "    rouge_1(reference_sentence, translated_sentence)\n",
        "    rouge_2(reference_sentence, translated_sentence)\n",
        "\n",
        "print(\"ROUGE-1 Score: \", rouge_1.result())\n",
        "print(\"ROUGE-2 Score: \", rouge_2.result())"
      ]
    },
    {
      "cell_type": "markdown",
      "metadata": {
        "id": "GPbTbkeIlheY"
      },
      "source": [
        "After 10 epochs, the scores are as follows:\n",
        "\n",
        "|               | **ROUGE-1** | **ROUGE-2** |\n",
        "|:-------------:|:-----------:|:-----------:|\n",
        "| **Precision** |    0.568    |    0.374    |\n",
        "|   **Recall**  |    0.615    |    0.394    |\n",
        "|  **F1 Score** |    0.579    |    0.381    |"
      ]
    }
  ],
  "metadata": {
    "accelerator": "GPU",
    "colab": {
      "provenance": [],
      "toc_visible": true
    },
    "kernelspec": {
      "display_name": "Python 3",
      "language": "python",
      "name": "python3"
    },
    "language_info": {
      "codemirror_mode": {
        "name": "ipython",
        "version": 3
      },
      "file_extension": ".py",
      "mimetype": "text/x-python",
      "name": "python",
      "nbconvert_exporter": "python",
      "pygments_lexer": "ipython3",
      "version": "3.7.0"
    }
  },
  "nbformat": 4,
  "nbformat_minor": 0
}